{
 "cells": [
  {
   "cell_type": "markdown",
   "metadata": {},
   "source": [
    "# 3章　傾向スコアを用いた分析"
   ]
  },
  {
   "cell_type": "markdown",
   "metadata": {},
   "source": [
    "## マッチング"
   ]
  },
  {
   "cell_type": "code",
   "execution_count": 40,
   "metadata": {},
   "outputs": [],
   "source": [
    "import pandas as pd\n",
    "\n",
    "biased_df = pd.read_pickle('data/biased_df.pkl')"
   ]
  },
  {
   "cell_type": "code",
   "execution_count": 2,
   "metadata": {},
   "outputs": [],
   "source": [
    "from sklearn.linear_model import LogisticRegression\n",
    "\n",
    "y = biased_df['treatment']\n",
    "X = pd.get_dummies(biased_df[['recency', 'channel', 'history']], columns=['channel'], drop_first=True)\n",
    "\n",
    "lr = LogisticRegression(random_state=42)\n",
    "lr.fit(X, y)\n",
    "ps_score = lr.predict_proba(X)[:, 1]"
   ]
  },
  {
   "cell_type": "code",
   "execution_count": 3,
   "metadata": {},
   "outputs": [],
   "source": [
    "z_ps = pd.DataFrame({'treatment': y, 'ps_score': ps_score})\n",
    "z_0 = z_ps[z_ps['treatment'] == 0]\n",
    "z_1 = z_ps[z_ps['treatment'] == 1]"
   ]
  },
  {
   "cell_type": "code",
   "execution_count": 4,
   "metadata": {},
   "outputs": [],
   "source": [
    "threshold = 0.2"
   ]
  },
  {
   "cell_type": "code",
   "execution_count": 5,
   "metadata": {},
   "outputs": [],
   "source": [
    "from sklearn.neighbors import NearestNeighbors\n",
    "\n",
    "nn = NearestNeighbors(n_neighbors=1).fit(z_0['ps_score'].values.reshape(-1, 1))\n",
    "distances, indices = nn.kneighbors(z_1['ps_score'].values.reshape(-1, 1))"
   ]
  },
  {
   "cell_type": "code",
   "execution_count": 6,
   "metadata": {},
   "outputs": [
    {
     "data": {
      "text/html": [
       "<div>\n",
       "<style scoped>\n",
       "    .dataframe tbody tr th:only-of-type {\n",
       "        vertical-align: middle;\n",
       "    }\n",
       "\n",
       "    .dataframe tbody tr th {\n",
       "        vertical-align: top;\n",
       "    }\n",
       "\n",
       "    .dataframe thead th {\n",
       "        text-align: right;\n",
       "    }\n",
       "</style>\n",
       "<table border=\"1\" class=\"dataframe\">\n",
       "  <thead>\n",
       "    <tr style=\"text-align: right;\">\n",
       "      <th></th>\n",
       "      <th>index</th>\n",
       "      <th>treatment</th>\n",
       "      <th>ps_score</th>\n",
       "    </tr>\n",
       "  </thead>\n",
       "  <tbody>\n",
       "    <tr>\n",
       "      <th>0</th>\n",
       "      <td>6550</td>\n",
       "      <td>1</td>\n",
       "      <td>0.495245</td>\n",
       "    </tr>\n",
       "    <tr>\n",
       "      <th>1</th>\n",
       "      <td>6551</td>\n",
       "      <td>1</td>\n",
       "      <td>0.496468</td>\n",
       "    </tr>\n",
       "    <tr>\n",
       "      <th>2</th>\n",
       "      <td>6552</td>\n",
       "      <td>1</td>\n",
       "      <td>0.622064</td>\n",
       "    </tr>\n",
       "    <tr>\n",
       "      <th>3</th>\n",
       "      <td>6553</td>\n",
       "      <td>1</td>\n",
       "      <td>0.523390</td>\n",
       "    </tr>\n",
       "    <tr>\n",
       "      <th>4</th>\n",
       "      <td>6554</td>\n",
       "      <td>1</td>\n",
       "      <td>0.708428</td>\n",
       "    </tr>\n",
       "    <tr>\n",
       "      <th>...</th>\n",
       "      <td>...</td>\n",
       "      <td>...</td>\n",
       "      <td>...</td>\n",
       "    </tr>\n",
       "    <tr>\n",
       "      <th>34331</th>\n",
       "      <td>27694</td>\n",
       "      <td>0</td>\n",
       "      <td>0.316614</td>\n",
       "    </tr>\n",
       "    <tr>\n",
       "      <th>34332</th>\n",
       "      <td>22255</td>\n",
       "      <td>0</td>\n",
       "      <td>0.510151</td>\n",
       "    </tr>\n",
       "    <tr>\n",
       "      <th>34333</th>\n",
       "      <td>26215</td>\n",
       "      <td>0</td>\n",
       "      <td>0.349286</td>\n",
       "    </tr>\n",
       "    <tr>\n",
       "      <th>34334</th>\n",
       "      <td>26841</td>\n",
       "      <td>0</td>\n",
       "      <td>0.361114</td>\n",
       "    </tr>\n",
       "    <tr>\n",
       "      <th>34335</th>\n",
       "      <td>23594</td>\n",
       "      <td>0</td>\n",
       "      <td>0.338341</td>\n",
       "    </tr>\n",
       "  </tbody>\n",
       "</table>\n",
       "<p>34336 rows × 3 columns</p>\n",
       "</div>"
      ],
      "text/plain": [
       "       index  treatment  ps_score\n",
       "0       6550          1  0.495245\n",
       "1       6551          1  0.496468\n",
       "2       6552          1  0.622064\n",
       "3       6553          1  0.523390\n",
       "4       6554          1  0.708428\n",
       "...      ...        ...       ...\n",
       "34331  27694          0  0.316614\n",
       "34332  22255          0  0.510151\n",
       "34333  26215          0  0.349286\n",
       "34334  26841          0  0.361114\n",
       "34335  23594          0  0.338341\n",
       "\n",
       "[34336 rows x 3 columns]"
      ]
     },
     "execution_count": 6,
     "metadata": {},
     "output_type": "execute_result"
    }
   ],
   "source": [
    "match = pd.concat([\n",
    "    z_1.reset_index()\n",
    "    , z_0.reset_index().loc[indices.reshape(1, -1)[0]]\n",
    "], axis=0, ignore_index=True)\n",
    "match"
   ]
  },
  {
   "cell_type": "code",
   "execution_count": 7,
   "metadata": {},
   "outputs": [
    {
     "data": {
      "text/html": [
       "<div>\n",
       "<style scoped>\n",
       "    .dataframe tbody tr th:only-of-type {\n",
       "        vertical-align: middle;\n",
       "    }\n",
       "\n",
       "    .dataframe tbody tr th {\n",
       "        vertical-align: top;\n",
       "    }\n",
       "\n",
       "    .dataframe thead th {\n",
       "        text-align: right;\n",
       "    }\n",
       "</style>\n",
       "<table border=\"1\" class=\"dataframe\">\n",
       "  <thead>\n",
       "    <tr style=\"text-align: right;\">\n",
       "      <th></th>\n",
       "      <th>index</th>\n",
       "      <th>treatment</th>\n",
       "      <th>ps_score</th>\n",
       "      <th>spend</th>\n",
       "    </tr>\n",
       "  </thead>\n",
       "  <tbody>\n",
       "    <tr>\n",
       "      <th>0</th>\n",
       "      <td>6550</td>\n",
       "      <td>1</td>\n",
       "      <td>0.495245</td>\n",
       "      <td>0.0</td>\n",
       "    </tr>\n",
       "    <tr>\n",
       "      <th>1</th>\n",
       "      <td>6551</td>\n",
       "      <td>1</td>\n",
       "      <td>0.496468</td>\n",
       "      <td>0.0</td>\n",
       "    </tr>\n",
       "    <tr>\n",
       "      <th>2</th>\n",
       "      <td>6552</td>\n",
       "      <td>1</td>\n",
       "      <td>0.622064</td>\n",
       "      <td>0.0</td>\n",
       "    </tr>\n",
       "    <tr>\n",
       "      <th>3</th>\n",
       "      <td>6553</td>\n",
       "      <td>1</td>\n",
       "      <td>0.523390</td>\n",
       "      <td>0.0</td>\n",
       "    </tr>\n",
       "    <tr>\n",
       "      <th>4</th>\n",
       "      <td>6554</td>\n",
       "      <td>1</td>\n",
       "      <td>0.708428</td>\n",
       "      <td>0.0</td>\n",
       "    </tr>\n",
       "    <tr>\n",
       "      <th>...</th>\n",
       "      <td>...</td>\n",
       "      <td>...</td>\n",
       "      <td>...</td>\n",
       "      <td>...</td>\n",
       "    </tr>\n",
       "    <tr>\n",
       "      <th>34331</th>\n",
       "      <td>27694</td>\n",
       "      <td>0</td>\n",
       "      <td>0.316614</td>\n",
       "      <td>0.0</td>\n",
       "    </tr>\n",
       "    <tr>\n",
       "      <th>34332</th>\n",
       "      <td>22255</td>\n",
       "      <td>0</td>\n",
       "      <td>0.510151</td>\n",
       "      <td>0.0</td>\n",
       "    </tr>\n",
       "    <tr>\n",
       "      <th>34333</th>\n",
       "      <td>26215</td>\n",
       "      <td>0</td>\n",
       "      <td>0.349286</td>\n",
       "      <td>0.0</td>\n",
       "    </tr>\n",
       "    <tr>\n",
       "      <th>34334</th>\n",
       "      <td>26841</td>\n",
       "      <td>0</td>\n",
       "      <td>0.361114</td>\n",
       "      <td>0.0</td>\n",
       "    </tr>\n",
       "    <tr>\n",
       "      <th>34335</th>\n",
       "      <td>23594</td>\n",
       "      <td>0</td>\n",
       "      <td>0.338341</td>\n",
       "      <td>0.0</td>\n",
       "    </tr>\n",
       "  </tbody>\n",
       "</table>\n",
       "<p>34336 rows × 4 columns</p>\n",
       "</div>"
      ],
      "text/plain": [
       "       index  treatment  ps_score  spend\n",
       "0       6550          1  0.495245    0.0\n",
       "1       6551          1  0.496468    0.0\n",
       "2       6552          1  0.622064    0.0\n",
       "3       6553          1  0.523390    0.0\n",
       "4       6554          1  0.708428    0.0\n",
       "...      ...        ...       ...    ...\n",
       "34331  27694          0  0.316614    0.0\n",
       "34332  22255          0  0.510151    0.0\n",
       "34333  26215          0  0.349286    0.0\n",
       "34334  26841          0  0.361114    0.0\n",
       "34335  23594          0  0.338341    0.0\n",
       "\n",
       "[34336 rows x 4 columns]"
      ]
     },
     "execution_count": 7,
     "metadata": {},
     "output_type": "execute_result"
    }
   ],
   "source": [
    "tt = match.merge(biased_df.reset_index()[['index', 'spend']], on='index', how='left')\n",
    "tt"
   ]
  },
  {
   "cell_type": "code",
   "execution_count": 8,
   "metadata": {},
   "outputs": [
    {
     "data": {
      "text/html": [
       "<table class=\"simpletable\">\n",
       "<caption>OLS Regression Results</caption>\n",
       "<tr>\n",
       "  <th>Dep. Variable:</th>          <td>spend</td>      <th>  R-squared:         </th>  <td>   0.001</td>  \n",
       "</tr>\n",
       "<tr>\n",
       "  <th>Model:</th>                   <td>OLS</td>       <th>  Adj. R-squared:    </th>  <td>   0.001</td>  \n",
       "</tr>\n",
       "<tr>\n",
       "  <th>Method:</th>             <td>Least Squares</td>  <th>  F-statistic:       </th>  <td>   28.91</td>  \n",
       "</tr>\n",
       "<tr>\n",
       "  <th>Date:</th>             <td>Tue, 04 Aug 2020</td> <th>  Prob (F-statistic):</th>  <td>7.62e-08</td>  \n",
       "</tr>\n",
       "<tr>\n",
       "  <th>Time:</th>                 <td>11:17:19</td>     <th>  Log-Likelihood:    </th> <td>-1.4351e+05</td>\n",
       "</tr>\n",
       "<tr>\n",
       "  <th>No. Observations:</th>      <td> 34336</td>      <th>  AIC:               </th>  <td>2.870e+05</td> \n",
       "</tr>\n",
       "<tr>\n",
       "  <th>Df Residuals:</th>          <td> 34334</td>      <th>  BIC:               </th>  <td>2.870e+05</td> \n",
       "</tr>\n",
       "<tr>\n",
       "  <th>Df Model:</th>              <td>     1</td>      <th>                     </th>      <td> </td>     \n",
       "</tr>\n",
       "<tr>\n",
       "  <th>Covariance Type:</th>      <td>nonrobust</td>    <th>                     </th>      <td> </td>     \n",
       "</tr>\n",
       "</table>\n",
       "<table class=\"simpletable\">\n",
       "<tr>\n",
       "      <td></td>         <th>coef</th>     <th>std err</th>      <th>t</th>      <th>P>|t|</th>  <th>[0.025</th>    <th>0.975]</th>  \n",
       "</tr>\n",
       "<tr>\n",
       "  <th>const</th>     <td>    0.6241</td> <td>    0.121</td> <td>    5.172</td> <td> 0.000</td> <td>    0.388</td> <td>    0.861</td>\n",
       "</tr>\n",
       "<tr>\n",
       "  <th>treatment</th> <td>    0.9176</td> <td>    0.171</td> <td>    5.377</td> <td> 0.000</td> <td>    0.583</td> <td>    1.252</td>\n",
       "</tr>\n",
       "</table>\n",
       "<table class=\"simpletable\">\n",
       "<tr>\n",
       "  <th>Omnibus:</th>       <td>76831.896</td> <th>  Durbin-Watson:     </th>   <td>   2.006</td>   \n",
       "</tr>\n",
       "<tr>\n",
       "  <th>Prob(Omnibus):</th>  <td> 0.000</td>   <th>  Jarque-Bera (JB):  </th> <td>408492152.212</td>\n",
       "</tr>\n",
       "<tr>\n",
       "  <th>Skew:</th>           <td>21.273</td>   <th>  Prob(JB):          </th>   <td>    0.00</td>   \n",
       "</tr>\n",
       "<tr>\n",
       "  <th>Kurtosis:</th>       <td>535.650</td>  <th>  Cond. No.          </th>   <td>    2.62</td>   \n",
       "</tr>\n",
       "</table><br/><br/>Warnings:<br/>[1] Standard Errors assume that the covariance matrix of the errors is correctly specified."
      ],
      "text/plain": [
       "<class 'statsmodels.iolib.summary.Summary'>\n",
       "\"\"\"\n",
       "                            OLS Regression Results                            \n",
       "==============================================================================\n",
       "Dep. Variable:                  spend   R-squared:                       0.001\n",
       "Model:                            OLS   Adj. R-squared:                  0.001\n",
       "Method:                 Least Squares   F-statistic:                     28.91\n",
       "Date:                Tue, 04 Aug 2020   Prob (F-statistic):           7.62e-08\n",
       "Time:                        11:17:19   Log-Likelihood:            -1.4351e+05\n",
       "No. Observations:               34336   AIC:                         2.870e+05\n",
       "Df Residuals:                   34334   BIC:                         2.870e+05\n",
       "Df Model:                           1                                         \n",
       "Covariance Type:            nonrobust                                         \n",
       "==============================================================================\n",
       "                 coef    std err          t      P>|t|      [0.025      0.975]\n",
       "------------------------------------------------------------------------------\n",
       "const          0.6241      0.121      5.172      0.000       0.388       0.861\n",
       "treatment      0.9176      0.171      5.377      0.000       0.583       1.252\n",
       "==============================================================================\n",
       "Omnibus:                    76831.896   Durbin-Watson:                   2.006\n",
       "Prob(Omnibus):                  0.000   Jarque-Bera (JB):        408492152.212\n",
       "Skew:                          21.273   Prob(JB):                         0.00\n",
       "Kurtosis:                     535.650   Cond. No.                         2.62\n",
       "==============================================================================\n",
       "\n",
       "Warnings:\n",
       "[1] Standard Errors assume that the covariance matrix of the errors is correctly specified.\n",
       "\"\"\""
      ]
     },
     "execution_count": 8,
     "metadata": {},
     "output_type": "execute_result"
    }
   ],
   "source": [
    "import statsmodels.api as sm\n",
    "\n",
    "x = sm.add_constant(tt['treatment'])\n",
    "results = sm.OLS(tt['spend'], x).fit()\n",
    "results.summary()"
   ]
  },
  {
   "cell_type": "markdown",
   "metadata": {},
   "source": [
    "## 共変量のバランス"
   ]
  },
  {
   "cell_type": "code",
   "execution_count": 19,
   "metadata": {},
   "outputs": [],
   "source": [
    "df = pd.concat([X, y], axis=1)"
   ]
  },
  {
   "cell_type": "code",
   "execution_count": 39,
   "metadata": {},
   "outputs": [
    {
     "data": {
      "text/plain": [
       "<matplotlib.legend.Legend at 0x7f9e53637f70>"
      ]
     },
     "execution_count": 39,
     "metadata": {},
     "output_type": "execute_result"
    },
    {
     "data": {
      "image/png": "[encoded data removed]",
      "text/plain": [
       "<Figure size 432x288 with 1 Axes>"
      ]
     },
     "metadata": {
      "needs_background": "light"
     },
     "output_type": "display_data"
    }
   ],
   "source": [
    "import matplotlib.pyplot as plt\n",
    "\n",
    "k = (df.query('treatment == 1').mean() - df.query('treatment == 0').mean()) / df.std()\n",
    "plt.scatter(k.index, k.abs(), color='blue', label='not match')\n",
    "\n",
    "kk = match.merge(X.reset_index(), on='index', how='left')[['treatment', 'recency', 'history', 'channel_Phone', 'channel_Web']]\n",
    "kkk = (kk.query('treatment == 1').mean() - kk.query('treatment == 0').mean()) / kk.std()\n",
    "plt.scatter(kkk.index, kkk.abs(), color='red', label='match')\n",
    "\n",
    "plt.legend()"
   ]
  },
  {
   "cell_type": "markdown",
   "metadata": {},
   "source": [
    "## IPW"
   ]
  },
  {
   "cell_type": "code",
   "execution_count": 2,
   "metadata": {},
   "outputs": [],
   "source": [
    "import pandas as pd\n",
    "from sklearn.linear_model import LogisticRegression\n",
    "\n",
    "\n",
    "biased_df = pd.read_pickle('data/biased_df.pkl')\n",
    "\n",
    "y = biased_df['treatment']\n",
    "X = pd.get_dummies(biased_df[['recency', 'channel', 'history']], columns=['channel'], drop_first=True)\n",
    "\n",
    "lr = LogisticRegression(random_state=42)\n",
    "lr.fit(X, y)\n",
    "ps_score = lr.predict_proba(X)[:, 1]"
   ]
  },
  {
   "cell_type": "code",
   "execution_count": 3,
   "metadata": {},
   "outputs": [],
   "source": [
    "weight_0 = 1 / (1 - ps_score[y[y == 0].index])\n",
    "weight_1 = 1 / ps_score[y[y == 1].index]"
   ]
  },
  {
   "cell_type": "code",
   "execution_count": 4,
   "metadata": {},
   "outputs": [],
   "source": [
    "z_ps = pd.DataFrame({'treatment': y, 'ps_score': ps_score})\n",
    "z_ps['weight'] = (1 - z_ps['treatment']) / (1 - z_ps['ps_score']) + z_ps['treatment'] / z_ps['ps_score']"
   ]
  },
  {
   "cell_type": "code",
   "execution_count": 5,
   "metadata": {},
   "outputs": [
    {
     "data": {
      "text/html": [
       "<div>\n",
       "<style scoped>\n",
       "    .dataframe tbody tr th:only-of-type {\n",
       "        vertical-align: middle;\n",
       "    }\n",
       "\n",
       "    .dataframe tbody tr th {\n",
       "        vertical-align: top;\n",
       "    }\n",
       "\n",
       "    .dataframe thead th {\n",
       "        text-align: right;\n",
       "    }\n",
       "</style>\n",
       "<table border=\"1\" class=\"dataframe\">\n",
       "  <thead>\n",
       "    <tr style=\"text-align: right;\">\n",
       "      <th></th>\n",
       "      <th>treatment</th>\n",
       "      <th>ps_score</th>\n",
       "      <th>weight</th>\n",
       "      <th>spend</th>\n",
       "    </tr>\n",
       "  </thead>\n",
       "  <tbody>\n",
       "    <tr>\n",
       "      <th>0</th>\n",
       "      <td>0</td>\n",
       "      <td>0.510585</td>\n",
       "      <td>2.043256</td>\n",
       "      <td>0.0</td>\n",
       "    </tr>\n",
       "    <tr>\n",
       "      <th>1</th>\n",
       "      <td>0</td>\n",
       "      <td>0.525221</td>\n",
       "      <td>2.106244</td>\n",
       "      <td>0.0</td>\n",
       "    </tr>\n",
       "    <tr>\n",
       "      <th>2</th>\n",
       "      <td>0</td>\n",
       "      <td>0.912623</td>\n",
       "      <td>11.444681</td>\n",
       "      <td>0.0</td>\n",
       "    </tr>\n",
       "    <tr>\n",
       "      <th>3</th>\n",
       "      <td>0</td>\n",
       "      <td>0.721723</td>\n",
       "      <td>3.593544</td>\n",
       "      <td>0.0</td>\n",
       "    </tr>\n",
       "    <tr>\n",
       "      <th>4</th>\n",
       "      <td>0</td>\n",
       "      <td>0.524183</td>\n",
       "      <td>2.101648</td>\n",
       "      <td>0.0</td>\n",
       "    </tr>\n",
       "    <tr>\n",
       "      <th>...</th>\n",
       "      <td>...</td>\n",
       "      <td>...</td>\n",
       "      <td>...</td>\n",
       "      <td>...</td>\n",
       "    </tr>\n",
       "    <tr>\n",
       "      <th>31920</th>\n",
       "      <td>1</td>\n",
       "      <td>0.316614</td>\n",
       "      <td>3.158424</td>\n",
       "      <td>0.0</td>\n",
       "    </tr>\n",
       "    <tr>\n",
       "      <th>31921</th>\n",
       "      <td>1</td>\n",
       "      <td>0.510165</td>\n",
       "      <td>1.960150</td>\n",
       "      <td>0.0</td>\n",
       "    </tr>\n",
       "    <tr>\n",
       "      <th>31922</th>\n",
       "      <td>1</td>\n",
       "      <td>0.349279</td>\n",
       "      <td>2.863037</td>\n",
       "      <td>0.0</td>\n",
       "    </tr>\n",
       "    <tr>\n",
       "      <th>31923</th>\n",
       "      <td>1</td>\n",
       "      <td>0.361109</td>\n",
       "      <td>2.769248</td>\n",
       "      <td>0.0</td>\n",
       "    </tr>\n",
       "    <tr>\n",
       "      <th>31924</th>\n",
       "      <td>1</td>\n",
       "      <td>0.338380</td>\n",
       "      <td>2.955253</td>\n",
       "      <td>0.0</td>\n",
       "    </tr>\n",
       "  </tbody>\n",
       "</table>\n",
       "<p>31925 rows × 4 columns</p>\n",
       "</div>"
      ],
      "text/plain": [
       "       treatment  ps_score     weight  spend\n",
       "0              0  0.510585   2.043256    0.0\n",
       "1              0  0.525221   2.106244    0.0\n",
       "2              0  0.912623  11.444681    0.0\n",
       "3              0  0.721723   3.593544    0.0\n",
       "4              0  0.524183   2.101648    0.0\n",
       "...          ...       ...        ...    ...\n",
       "31920          1  0.316614   3.158424    0.0\n",
       "31921          1  0.510165   1.960150    0.0\n",
       "31922          1  0.349279   2.863037    0.0\n",
       "31923          1  0.361109   2.769248    0.0\n",
       "31924          1  0.338380   2.955253    0.0\n",
       "\n",
       "[31925 rows x 4 columns]"
      ]
     },
     "execution_count": 5,
     "metadata": {},
     "output_type": "execute_result"
    }
   ],
   "source": [
    "z_ps['spend'] = biased_df['spend']\n",
    "z_ps"
   ]
  },
  {
   "cell_type": "code",
   "execution_count": 25,
   "metadata": {},
   "outputs": [
    {
     "name": "stdout",
     "output_type": "stream",
     "text": [
      "1.4758746142116805\n",
      "0.5902908912501398\n"
     ]
    }
   ],
   "source": [
    "z1 = z_ps.query('treatment == 1')\n",
    "z0 = z_ps.query('treatment == 0')\n",
    "\n",
    "print((z1['spend'] * z1['weight']).sum() / z1['weight'].sum())\n",
    "print((z0['spend'] * z0['weight']).sum() / z0['weight'].sum())"
   ]
  },
  {
   "cell_type": "code",
   "execution_count": 27,
   "metadata": {},
   "outputs": [
    {
     "data": {
      "text/plain": [
       "0.8855837229615408"
      ]
     },
     "execution_count": 27,
     "metadata": {},
     "output_type": "execute_result"
    }
   ],
   "source": [
    "1.4758746142116805 - 0.5902908912501398"
   ]
  },
  {
   "cell_type": "code",
   "execution_count": 28,
   "metadata": {},
   "outputs": [
    {
     "data": {
      "text/html": [
       "<table class=\"simpletable\">\n",
       "<caption>WLS Regression Results</caption>\n",
       "<tr>\n",
       "  <th>Dep. Variable:</th>          <td>spend</td>      <th>  R-squared:         </th>  <td>   0.001</td>  \n",
       "</tr>\n",
       "<tr>\n",
       "  <th>Model:</th>                   <td>WLS</td>       <th>  Adj. R-squared:    </th>  <td>   0.001</td>  \n",
       "</tr>\n",
       "<tr>\n",
       "  <th>Method:</th>             <td>Least Squares</td>  <th>  F-statistic:       </th>  <td>   27.07</td>  \n",
       "</tr>\n",
       "<tr>\n",
       "  <th>Date:</th>             <td>Tue, 04 Aug 2020</td> <th>  Prob (F-statistic):</th>  <td>1.97e-07</td>  \n",
       "</tr>\n",
       "<tr>\n",
       "  <th>Time:</th>                 <td>12:34:27</td>     <th>  Log-Likelihood:    </th> <td>-1.3278e+05</td>\n",
       "</tr>\n",
       "<tr>\n",
       "  <th>No. Observations:</th>      <td> 31925</td>      <th>  AIC:               </th>  <td>2.656e+05</td> \n",
       "</tr>\n",
       "<tr>\n",
       "  <th>Df Residuals:</th>          <td> 31923</td>      <th>  BIC:               </th>  <td>2.656e+05</td> \n",
       "</tr>\n",
       "<tr>\n",
       "  <th>Df Model:</th>              <td>     1</td>      <th>                     </th>      <td> </td>     \n",
       "</tr>\n",
       "<tr>\n",
       "  <th>Covariance Type:</th>      <td>nonrobust</td>    <th>                     </th>      <td> </td>     \n",
       "</tr>\n",
       "</table>\n",
       "<table class=\"simpletable\">\n",
       "<tr>\n",
       "      <td></td>         <th>coef</th>     <th>std err</th>      <th>t</th>      <th>P>|t|</th>  <th>[0.025</th>    <th>0.975]</th>  \n",
       "</tr>\n",
       "<tr>\n",
       "  <th>const</th>     <td>    0.5903</td> <td>    0.120</td> <td>    4.920</td> <td> 0.000</td> <td>    0.355</td> <td>    0.825</td>\n",
       "</tr>\n",
       "<tr>\n",
       "  <th>treatment</th> <td>    0.8856</td> <td>    0.170</td> <td>    5.203</td> <td> 0.000</td> <td>    0.552</td> <td>    1.219</td>\n",
       "</tr>\n",
       "</table>\n",
       "<table class=\"simpletable\">\n",
       "<tr>\n",
       "  <th>Omnibus:</th>       <td>71708.008</td> <th>  Durbin-Watson:     </th>   <td>   2.001</td>   \n",
       "</tr>\n",
       "<tr>\n",
       "  <th>Prob(Omnibus):</th>  <td> 0.000</td>   <th>  Jarque-Bera (JB):  </th> <td>414882195.972</td>\n",
       "</tr>\n",
       "<tr>\n",
       "  <th>Skew:</th>           <td>21.418</td>   <th>  Prob(JB):          </th>   <td>    0.00</td>   \n",
       "</tr>\n",
       "<tr>\n",
       "  <th>Kurtosis:</th>       <td>559.828</td>  <th>  Cond. No.          </th>   <td>    2.61</td>   \n",
       "</tr>\n",
       "</table><br/><br/>Warnings:<br/>[1] Standard Errors assume that the covariance matrix of the errors is correctly specified."
      ],
      "text/plain": [
       "<class 'statsmodels.iolib.summary.Summary'>\n",
       "\"\"\"\n",
       "                            WLS Regression Results                            \n",
       "==============================================================================\n",
       "Dep. Variable:                  spend   R-squared:                       0.001\n",
       "Model:                            WLS   Adj. R-squared:                  0.001\n",
       "Method:                 Least Squares   F-statistic:                     27.07\n",
       "Date:                Tue, 04 Aug 2020   Prob (F-statistic):           1.97e-07\n",
       "Time:                        12:34:27   Log-Likelihood:            -1.3278e+05\n",
       "No. Observations:               31925   AIC:                         2.656e+05\n",
       "Df Residuals:                   31923   BIC:                         2.656e+05\n",
       "Df Model:                           1                                         \n",
       "Covariance Type:            nonrobust                                         \n",
       "==============================================================================\n",
       "                 coef    std err          t      P>|t|      [0.025      0.975]\n",
       "------------------------------------------------------------------------------\n",
       "const          0.5903      0.120      4.920      0.000       0.355       0.825\n",
       "treatment      0.8856      0.170      5.203      0.000       0.552       1.219\n",
       "==============================================================================\n",
       "Omnibus:                    71708.008   Durbin-Watson:                   2.001\n",
       "Prob(Omnibus):                  0.000   Jarque-Bera (JB):        414882195.972\n",
       "Skew:                          21.418   Prob(JB):                         0.00\n",
       "Kurtosis:                     559.828   Cond. No.                         2.61\n",
       "==============================================================================\n",
       "\n",
       "Warnings:\n",
       "[1] Standard Errors assume that the covariance matrix of the errors is correctly specified.\n",
       "\"\"\""
      ]
     },
     "execution_count": 28,
     "metadata": {},
     "output_type": "execute_result"
    }
   ],
   "source": [
    "import statsmodels.api as sm\n",
    "\n",
    "y = biased_df['spend']\n",
    "x = sm.add_constant(z_ps['treatment'])\n",
    "results = sm.WLS(y, x, weights=z_ps['weight']).fit()\n",
    "results.summary()"
   ]
  },
  {
   "cell_type": "code",
   "execution_count": 14,
   "metadata": {},
   "outputs": [],
   "source": [
    "d = pd.DataFrame()\n",
    "for col in X.columns:\n",
    "    d[col] = X[col] * z_ps['weight']"
   ]
  },
  {
   "cell_type": "code",
   "execution_count": 16,
   "metadata": {},
   "outputs": [],
   "source": [
    "d['treatment'] = y"
   ]
  },
  {
   "cell_type": "code",
   "execution_count": 17,
   "metadata": {},
   "outputs": [
    {
     "data": {
      "text/html": [
       "<div>\n",
       "<style scoped>\n",
       "    .dataframe tbody tr th:only-of-type {\n",
       "        vertical-align: middle;\n",
       "    }\n",
       "\n",
       "    .dataframe tbody tr th {\n",
       "        vertical-align: top;\n",
       "    }\n",
       "\n",
       "    .dataframe thead th {\n",
       "        text-align: right;\n",
       "    }\n",
       "</style>\n",
       "<table border=\"1\" class=\"dataframe\">\n",
       "  <thead>\n",
       "    <tr style=\"text-align: right;\">\n",
       "      <th></th>\n",
       "      <th>recency</th>\n",
       "      <th>history</th>\n",
       "      <th>channel_Phone</th>\n",
       "      <th>channel_Web</th>\n",
       "      <th>treatment</th>\n",
       "    </tr>\n",
       "  </thead>\n",
       "  <tbody>\n",
       "    <tr>\n",
       "      <th>0</th>\n",
       "      <td>16.346046</td>\n",
       "      <td>1170.070410</td>\n",
       "      <td>0.000000</td>\n",
       "      <td>2.043256</td>\n",
       "      <td>0</td>\n",
       "    </tr>\n",
       "    <tr>\n",
       "      <th>1</th>\n",
       "      <td>10.531220</td>\n",
       "      <td>89.262618</td>\n",
       "      <td>2.106244</td>\n",
       "      <td>0.000000</td>\n",
       "      <td>0</td>\n",
       "    </tr>\n",
       "    <tr>\n",
       "      <th>2</th>\n",
       "      <td>11.444681</td>\n",
       "      <td>34373.870657</td>\n",
       "      <td>11.444681</td>\n",
       "      <td>0.000000</td>\n",
       "      <td>0</td>\n",
       "    </tr>\n",
       "    <tr>\n",
       "      <th>3</th>\n",
       "      <td>3.593544</td>\n",
       "      <td>2379.285260</td>\n",
       "      <td>0.000000</td>\n",
       "      <td>3.593544</td>\n",
       "      <td>0</td>\n",
       "    </tr>\n",
       "    <tr>\n",
       "      <th>4</th>\n",
       "      <td>10.508238</td>\n",
       "      <td>93.250103</td>\n",
       "      <td>0.000000</td>\n",
       "      <td>2.101648</td>\n",
       "      <td>0</td>\n",
       "    </tr>\n",
       "    <tr>\n",
       "      <th>...</th>\n",
       "      <td>...</td>\n",
       "      <td>...</td>\n",
       "      <td>...</td>\n",
       "      <td>...</td>\n",
       "      <td>...</td>\n",
       "    </tr>\n",
       "    <tr>\n",
       "      <th>31920</th>\n",
       "      <td>37.901087</td>\n",
       "      <td>94.721134</td>\n",
       "      <td>0.000000</td>\n",
       "      <td>3.158424</td>\n",
       "      <td>1</td>\n",
       "    </tr>\n",
       "    <tr>\n",
       "      <th>31921</th>\n",
       "      <td>11.760901</td>\n",
       "      <td>306.508687</td>\n",
       "      <td>0.000000</td>\n",
       "      <td>1.960150</td>\n",
       "      <td>1</td>\n",
       "    </tr>\n",
       "    <tr>\n",
       "      <th>31922</th>\n",
       "      <td>31.493408</td>\n",
       "      <td>179.111602</td>\n",
       "      <td>2.863037</td>\n",
       "      <td>0.000000</td>\n",
       "      <td>1</td>\n",
       "    </tr>\n",
       "    <tr>\n",
       "      <th>31923</th>\n",
       "      <td>30.461729</td>\n",
       "      <td>414.584125</td>\n",
       "      <td>2.769248</td>\n",
       "      <td>0.000000</td>\n",
       "      <td>1</td>\n",
       "    </tr>\n",
       "    <tr>\n",
       "      <th>31924</th>\n",
       "      <td>35.463041</td>\n",
       "      <td>554.907937</td>\n",
       "      <td>2.955253</td>\n",
       "      <td>0.000000</td>\n",
       "      <td>1</td>\n",
       "    </tr>\n",
       "  </tbody>\n",
       "</table>\n",
       "<p>31925 rows × 5 columns</p>\n",
       "</div>"
      ],
      "text/plain": [
       "         recency       history  channel_Phone  channel_Web  treatment\n",
       "0      16.346046   1170.070410       0.000000     2.043256          0\n",
       "1      10.531220     89.262618       2.106244     0.000000          0\n",
       "2      11.444681  34373.870657      11.444681     0.000000          0\n",
       "3       3.593544   2379.285260       0.000000     3.593544          0\n",
       "4      10.508238     93.250103       0.000000     2.101648          0\n",
       "...          ...           ...            ...          ...        ...\n",
       "31920  37.901087     94.721134       0.000000     3.158424          1\n",
       "31921  11.760901    306.508687       0.000000     1.960150          1\n",
       "31922  31.493408    179.111602       2.863037     0.000000          1\n",
       "31923  30.461729    414.584125       2.769248     0.000000          1\n",
       "31924  35.463041    554.907937       2.955253     0.000000          1\n",
       "\n",
       "[31925 rows x 5 columns]"
      ]
     },
     "execution_count": 17,
     "metadata": {},
     "output_type": "execute_result"
    }
   ],
   "source": [
    "d"
   ]
  },
  {
   "cell_type": "code",
   "execution_count": 20,
   "metadata": {},
   "outputs": [
    {
     "data": {
      "text/plain": [
       "<matplotlib.legend.Legend at 0x7f3172f47dc0>"
      ]
     },
     "execution_count": 20,
     "metadata": {},
     "output_type": "execute_result"
    },
    {
     "data": {
      "image/png": "[encoded data removed]",
      "text/plain": [
       "<Figure size 432x288 with 1 Axes>"
      ]
     },
     "metadata": {
      "needs_background": "light"
     },
     "output_type": "display_data"
    }
   ],
   "source": [
    "import matplotlib.pyplot as plt\n",
    "\n",
    "k = (df.query('treatment == 1').mean() - df.query('treatment == 0').mean()) / df.std()\n",
    "plt.scatter(k.index, k.abs(), color='blue', label='not match')\n",
    "\n",
    "kkk = (d.query('treatment == 1').mean() - d.query('treatment == 0').mean()) / d.std()\n",
    "plt.scatter(kkk.index, kkk.abs(), color='red', label='match')\n",
    "\n",
    "plt.legend()"
   ]
  }
 ],
 "metadata": {
  "kernelspec": {
   "display_name": "Python 3",
   "language": "python",
   "name": "python3"
  },
  "language_info": {
   "codemirror_mode": {
    "name": "ipython",
    "version": 3
   },
   "file_extension": ".py",
   "mimetype": "text/x-python",
   "name": "python",
   "nbconvert_exporter": "python",
   "pygments_lexer": "ipython3",
   "version": "3.8.0"
  }
 },
 "nbformat": 4,
 "nbformat_minor": 4
}
