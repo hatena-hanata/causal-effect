{
 "cells": [
  {
   "cell_type": "markdown",
   "metadata": {},
   "source": [
    "# 3章 傾向スコアを用いた分析"
   ]
  },
  {
   "cell_type": "markdown",
   "metadata": {},
   "source": [
    "## 3.2 傾向スコアを利用した効果の推定"
   ]
  },
  {
   "cell_type": "markdown",
   "metadata": {},
   "source": [
    "### 3.2.1 マッチング"
   ]
  },
  {
   "cell_type": "markdown",
   "metadata": {},
   "source": [
    "Z=1のユーザーに対して、傾向スコアが近い値のZ=0のユーザーをペアにする。この差を平均して処置効果を求める。  \n",
    "Z=1に対してマッチングさせるので、推定される効果はATT。  \n",
    "マッチング方法は閾値を設定したり、復元抽出するかどうかなど、パターンは様々である。"
   ]
  },
  {
   "cell_type": "code",
   "execution_count": 2,
   "metadata": {},
   "outputs": [],
   "source": [
    "import pandas as pd\n",
    "\n",
    "biased_df = pd.read_pickle('data/biased_df.pkl')"
   ]
  },
  {
   "cell_type": "markdown",
   "metadata": {},
   "source": [
    "#### 傾向スコアを算出"
   ]
  },
  {
   "cell_type": "code",
   "execution_count": 58,
   "metadata": {},
   "outputs": [
    {
     "name": "stdout",
     "output_type": "stream",
     "text": [
      "0.6380579483163665\n"
     ]
    }
   ],
   "source": [
    "from sklearn.linear_model import LogisticRegression\n",
    "from sklearn.model_selection import train_test_split\n",
    "\n",
    "y = biased_df['treatment']\n",
    "X = pd.get_dummies(biased_df[['recency', 'channel', 'history']], columns=['channel'], drop_first=True)\n",
    "\n",
    "lr = LogisticRegression(random_state=42)\n",
    "lr.fit(X, y)\n",
    "print(lr.score(X, y))\n",
    "ps_score = lr.predict_proba(X)[:, 1]"
   ]
  },
  {
   "cell_type": "code",
   "execution_count": 59,
   "metadata": {},
   "outputs": [
    {
     "data": {
      "text/plain": [
       "array([0.51058501, 0.52522118, 0.91262317, ..., 0.34927944, 0.36110886,\n",
       "       0.33838045])"
      ]
     },
     "execution_count": 59,
     "metadata": {},
     "output_type": "execute_result"
    }
   ],
   "source": [
    "ps_score"
   ]
  },
  {
   "cell_type": "code",
   "execution_count": 60,
   "metadata": {},
   "outputs": [
    {
     "data": {
      "text/plain": [
       "<matplotlib.legend.Legend at 0x7fb4d3d3cd30>"
      ]
     },
     "execution_count": 60,
     "metadata": {},
     "output_type": "execute_result"
    },
    {
     "data": {
      "image/png": "[encoded data removed]",
      "text/plain": [
       "<Figure size 432x288 with 1 Axes>"
      ]
     },
     "metadata": {
      "needs_background": "light"
     },
     "output_type": "display_data"
    }
   ],
   "source": [
    "import matplotlib.pyplot as plt\n",
    "\n",
    "plt.hist(ps_score[y[y == 0].index], label='z=0', color='red', alpha=0.3, histtype='stepfilled', bins=100)\n",
    "plt.hist(ps_score[y[y == 1].index], label='z=1', color='blue', alpha=0.3, histtype='stepfilled', bins=100)\n",
    "plt.legend()"
   ]
  },
  {
   "cell_type": "markdown",
   "metadata": {},
   "source": [
    "理想はZ=0, 1で傾向スコアの分布が似ている方が良い。"
   ]
  },
  {
   "cell_type": "code",
   "execution_count": 61,
   "metadata": {},
   "outputs": [
    {
     "data": {
      "text/plain": [
       "0.6467434148805555"
      ]
     },
     "execution_count": 61,
     "metadata": {},
     "output_type": "execute_result"
    },
    {
     "data": {
      "image/png": "[encoded data removed]",
      "text/plain": [
       "<Figure size 432x288 with 1 Axes>"
      ]
     },
     "metadata": {
      "needs_background": "light"
     },
     "output_type": "display_data"
    }
   ],
   "source": [
    "from sklearn.metrics import roc_curve, roc_auc_score\n",
    "\n",
    "fpr, tpr, thresholds = roc_curve(y, ps_score, drop_intermediate=False)\n",
    "plt.plot(fpr, tpr)\n",
    "plt.xlabel('FPR: False positive rate')\n",
    "plt.ylabel('TPR: True positive rate')\n",
    "plt.grid()\n",
    "\n",
    "roc_auc_score(y, ps_score)"
   ]
  },
  {
   "cell_type": "markdown",
   "metadata": {},
   "source": [
    "AUCが0.7以上のほうが良い、という基準もあるが、最近は共変量のバランスが取れているかが重要らしい"
   ]
  },
  {
   "cell_type": "code",
   "execution_count": 20,
   "metadata": {},
   "outputs": [],
   "source": [
    "z_ps = pd.DataFrame({'treatment': y, 'ps_score': ps_score})\n",
    "z_0 = z_ps[z_ps['treatment'] == 0]\n",
    "z_1 = z_ps[z_ps['treatment'] == 1]"
   ]
  },
  {
   "cell_type": "markdown",
   "metadata": {},
   "source": [
    "#### マッチング"
   ]
  },
  {
   "cell_type": "code",
   "execution_count": 21,
   "metadata": {},
   "outputs": [],
   "source": [
    "from sklearn.neighbors import NearestNeighbors\n",
    "\n",
    "# z=0のユーザーを数直線上に並べるイメージ\n",
    "nn = NearestNeighbors(n_neighbors=1).fit(z_0['ps_score'].values.reshape(-1, 1))\n",
    "# z=1の各ユーザーに対して、距離（スコア）が最も近いz=0のユーザーとの距離、インデックスを求めている。\n",
    "distances, indices = nn.kneighbors(z_1['ps_score'].values.reshape(-1, 1))"
   ]
  },
  {
   "cell_type": "code",
   "execution_count": 22,
   "metadata": {},
   "outputs": [
    {
     "data": {
      "text/html": [
       "<div>\n",
       "<style scoped>\n",
       "    .dataframe tbody tr th:only-of-type {\n",
       "        vertical-align: middle;\n",
       "    }\n",
       "\n",
       "    .dataframe tbody tr th {\n",
       "        vertical-align: top;\n",
       "    }\n",
       "\n",
       "    .dataframe thead th {\n",
       "        text-align: right;\n",
       "    }\n",
       "</style>\n",
       "<table border=\"1\" class=\"dataframe\">\n",
       "  <thead>\n",
       "    <tr style=\"text-align: right;\">\n",
       "      <th></th>\n",
       "      <th>index</th>\n",
       "      <th>treatment</th>\n",
       "      <th>ps_score</th>\n",
       "    </tr>\n",
       "  </thead>\n",
       "  <tbody>\n",
       "    <tr>\n",
       "      <th>0</th>\n",
       "      <td>6550</td>\n",
       "      <td>1</td>\n",
       "      <td>0.495245</td>\n",
       "    </tr>\n",
       "    <tr>\n",
       "      <th>1</th>\n",
       "      <td>6551</td>\n",
       "      <td>1</td>\n",
       "      <td>0.496468</td>\n",
       "    </tr>\n",
       "    <tr>\n",
       "      <th>2</th>\n",
       "      <td>6552</td>\n",
       "      <td>1</td>\n",
       "      <td>0.622064</td>\n",
       "    </tr>\n",
       "    <tr>\n",
       "      <th>3</th>\n",
       "      <td>6553</td>\n",
       "      <td>1</td>\n",
       "      <td>0.523390</td>\n",
       "    </tr>\n",
       "    <tr>\n",
       "      <th>4</th>\n",
       "      <td>6554</td>\n",
       "      <td>1</td>\n",
       "      <td>0.708428</td>\n",
       "    </tr>\n",
       "    <tr>\n",
       "      <th>...</th>\n",
       "      <td>...</td>\n",
       "      <td>...</td>\n",
       "      <td>...</td>\n",
       "    </tr>\n",
       "    <tr>\n",
       "      <th>34331</th>\n",
       "      <td>27694</td>\n",
       "      <td>0</td>\n",
       "      <td>0.316614</td>\n",
       "    </tr>\n",
       "    <tr>\n",
       "      <th>34332</th>\n",
       "      <td>22255</td>\n",
       "      <td>0</td>\n",
       "      <td>0.510151</td>\n",
       "    </tr>\n",
       "    <tr>\n",
       "      <th>34333</th>\n",
       "      <td>26215</td>\n",
       "      <td>0</td>\n",
       "      <td>0.349286</td>\n",
       "    </tr>\n",
       "    <tr>\n",
       "      <th>34334</th>\n",
       "      <td>26841</td>\n",
       "      <td>0</td>\n",
       "      <td>0.361114</td>\n",
       "    </tr>\n",
       "    <tr>\n",
       "      <th>34335</th>\n",
       "      <td>23594</td>\n",
       "      <td>0</td>\n",
       "      <td>0.338341</td>\n",
       "    </tr>\n",
       "  </tbody>\n",
       "</table>\n",
       "<p>34336 rows × 3 columns</p>\n",
       "</div>"
      ],
      "text/plain": [
       "       index  treatment  ps_score\n",
       "0       6550          1  0.495245\n",
       "1       6551          1  0.496468\n",
       "2       6552          1  0.622064\n",
       "3       6553          1  0.523390\n",
       "4       6554          1  0.708428\n",
       "...      ...        ...       ...\n",
       "34331  27694          0  0.316614\n",
       "34332  22255          0  0.510151\n",
       "34333  26215          0  0.349286\n",
       "34334  26841          0  0.361114\n",
       "34335  23594          0  0.338341\n",
       "\n",
       "[34336 rows x 3 columns]"
      ]
     },
     "execution_count": 22,
     "metadata": {},
     "output_type": "execute_result"
    }
   ],
   "source": [
    "match = pd.concat([\n",
    "    z_1.reset_index()\n",
    "    , z_0.reset_index().loc[indices.reshape(1, -1)[0]]\n",
    "], axis=0, ignore_index=True)\n",
    "match"
   ]
  },
  {
   "cell_type": "code",
   "execution_count": 23,
   "metadata": {},
   "outputs": [
    {
     "data": {
      "text/html": [
       "<div>\n",
       "<style scoped>\n",
       "    .dataframe tbody tr th:only-of-type {\n",
       "        vertical-align: middle;\n",
       "    }\n",
       "\n",
       "    .dataframe tbody tr th {\n",
       "        vertical-align: top;\n",
       "    }\n",
       "\n",
       "    .dataframe thead th {\n",
       "        text-align: right;\n",
       "    }\n",
       "</style>\n",
       "<table border=\"1\" class=\"dataframe\">\n",
       "  <thead>\n",
       "    <tr style=\"text-align: right;\">\n",
       "      <th></th>\n",
       "      <th>index</th>\n",
       "      <th>treatment</th>\n",
       "      <th>ps_score</th>\n",
       "      <th>spend</th>\n",
       "    </tr>\n",
       "  </thead>\n",
       "  <tbody>\n",
       "    <tr>\n",
       "      <th>0</th>\n",
       "      <td>6550</td>\n",
       "      <td>1</td>\n",
       "      <td>0.495245</td>\n",
       "      <td>0.0</td>\n",
       "    </tr>\n",
       "    <tr>\n",
       "      <th>1</th>\n",
       "      <td>6551</td>\n",
       "      <td>1</td>\n",
       "      <td>0.496468</td>\n",
       "      <td>0.0</td>\n",
       "    </tr>\n",
       "    <tr>\n",
       "      <th>2</th>\n",
       "      <td>6552</td>\n",
       "      <td>1</td>\n",
       "      <td>0.622064</td>\n",
       "      <td>0.0</td>\n",
       "    </tr>\n",
       "    <tr>\n",
       "      <th>3</th>\n",
       "      <td>6553</td>\n",
       "      <td>1</td>\n",
       "      <td>0.523390</td>\n",
       "      <td>0.0</td>\n",
       "    </tr>\n",
       "    <tr>\n",
       "      <th>4</th>\n",
       "      <td>6554</td>\n",
       "      <td>1</td>\n",
       "      <td>0.708428</td>\n",
       "      <td>0.0</td>\n",
       "    </tr>\n",
       "    <tr>\n",
       "      <th>...</th>\n",
       "      <td>...</td>\n",
       "      <td>...</td>\n",
       "      <td>...</td>\n",
       "      <td>...</td>\n",
       "    </tr>\n",
       "    <tr>\n",
       "      <th>34331</th>\n",
       "      <td>27694</td>\n",
       "      <td>0</td>\n",
       "      <td>0.316614</td>\n",
       "      <td>0.0</td>\n",
       "    </tr>\n",
       "    <tr>\n",
       "      <th>34332</th>\n",
       "      <td>22255</td>\n",
       "      <td>0</td>\n",
       "      <td>0.510151</td>\n",
       "      <td>0.0</td>\n",
       "    </tr>\n",
       "    <tr>\n",
       "      <th>34333</th>\n",
       "      <td>26215</td>\n",
       "      <td>0</td>\n",
       "      <td>0.349286</td>\n",
       "      <td>0.0</td>\n",
       "    </tr>\n",
       "    <tr>\n",
       "      <th>34334</th>\n",
       "      <td>26841</td>\n",
       "      <td>0</td>\n",
       "      <td>0.361114</td>\n",
       "      <td>0.0</td>\n",
       "    </tr>\n",
       "    <tr>\n",
       "      <th>34335</th>\n",
       "      <td>23594</td>\n",
       "      <td>0</td>\n",
       "      <td>0.338341</td>\n",
       "      <td>0.0</td>\n",
       "    </tr>\n",
       "  </tbody>\n",
       "</table>\n",
       "<p>34336 rows × 4 columns</p>\n",
       "</div>"
      ],
      "text/plain": [
       "       index  treatment  ps_score  spend\n",
       "0       6550          1  0.495245    0.0\n",
       "1       6551          1  0.496468    0.0\n",
       "2       6552          1  0.622064    0.0\n",
       "3       6553          1  0.523390    0.0\n",
       "4       6554          1  0.708428    0.0\n",
       "...      ...        ...       ...    ...\n",
       "34331  27694          0  0.316614    0.0\n",
       "34332  22255          0  0.510151    0.0\n",
       "34333  26215          0  0.349286    0.0\n",
       "34334  26841          0  0.361114    0.0\n",
       "34335  23594          0  0.338341    0.0\n",
       "\n",
       "[34336 rows x 4 columns]"
      ]
     },
     "execution_count": 23,
     "metadata": {},
     "output_type": "execute_result"
    }
   ],
   "source": [
    "match_df = match.merge(biased_df.reset_index()[['index', 'spend']], on='index', how='left')\n",
    "match_df"
   ]
  },
  {
   "cell_type": "markdown",
   "metadata": {},
   "source": [
    "#### 効果の推定"
   ]
  },
  {
   "cell_type": "code",
   "execution_count": 25,
   "metadata": {},
   "outputs": [
    {
     "data": {
      "text/html": [
       "<table class=\"simpletable\">\n",
       "<caption>OLS Regression Results</caption>\n",
       "<tr>\n",
       "  <th>Dep. Variable:</th>          <td>spend</td>      <th>  R-squared:         </th>  <td>   0.001</td>  \n",
       "</tr>\n",
       "<tr>\n",
       "  <th>Model:</th>                   <td>OLS</td>       <th>  Adj. R-squared:    </th>  <td>   0.001</td>  \n",
       "</tr>\n",
       "<tr>\n",
       "  <th>Method:</th>             <td>Least Squares</td>  <th>  F-statistic:       </th>  <td>   28.91</td>  \n",
       "</tr>\n",
       "<tr>\n",
       "  <th>Date:</th>             <td>Wed, 05 Aug 2020</td> <th>  Prob (F-statistic):</th>  <td>7.62e-08</td>  \n",
       "</tr>\n",
       "<tr>\n",
       "  <th>Time:</th>                 <td>12:32:21</td>     <th>  Log-Likelihood:    </th> <td>-1.4351e+05</td>\n",
       "</tr>\n",
       "<tr>\n",
       "  <th>No. Observations:</th>      <td> 34336</td>      <th>  AIC:               </th>  <td>2.870e+05</td> \n",
       "</tr>\n",
       "<tr>\n",
       "  <th>Df Residuals:</th>          <td> 34334</td>      <th>  BIC:               </th>  <td>2.870e+05</td> \n",
       "</tr>\n",
       "<tr>\n",
       "  <th>Df Model:</th>              <td>     1</td>      <th>                     </th>      <td> </td>     \n",
       "</tr>\n",
       "<tr>\n",
       "  <th>Covariance Type:</th>      <td>nonrobust</td>    <th>                     </th>      <td> </td>     \n",
       "</tr>\n",
       "</table>\n",
       "<table class=\"simpletable\">\n",
       "<tr>\n",
       "      <td></td>         <th>coef</th>     <th>std err</th>      <th>t</th>      <th>P>|t|</th>  <th>[0.025</th>    <th>0.975]</th>  \n",
       "</tr>\n",
       "<tr>\n",
       "  <th>const</th>     <td>    0.6241</td> <td>    0.121</td> <td>    5.172</td> <td> 0.000</td> <td>    0.388</td> <td>    0.861</td>\n",
       "</tr>\n",
       "<tr>\n",
       "  <th>treatment</th> <td>    0.9176</td> <td>    0.171</td> <td>    5.377</td> <td> 0.000</td> <td>    0.583</td> <td>    1.252</td>\n",
       "</tr>\n",
       "</table>\n",
       "<table class=\"simpletable\">\n",
       "<tr>\n",
       "  <th>Omnibus:</th>       <td>76831.896</td> <th>  Durbin-Watson:     </th>   <td>   2.006</td>   \n",
       "</tr>\n",
       "<tr>\n",
       "  <th>Prob(Omnibus):</th>  <td> 0.000</td>   <th>  Jarque-Bera (JB):  </th> <td>408492152.212</td>\n",
       "</tr>\n",
       "<tr>\n",
       "  <th>Skew:</th>           <td>21.273</td>   <th>  Prob(JB):          </th>   <td>    0.00</td>   \n",
       "</tr>\n",
       "<tr>\n",
       "  <th>Kurtosis:</th>       <td>535.650</td>  <th>  Cond. No.          </th>   <td>    2.62</td>   \n",
       "</tr>\n",
       "</table><br/><br/>Warnings:<br/>[1] Standard Errors assume that the covariance matrix of the errors is correctly specified."
      ],
      "text/plain": [
       "<class 'statsmodels.iolib.summary.Summary'>\n",
       "\"\"\"\n",
       "                            OLS Regression Results                            \n",
       "==============================================================================\n",
       "Dep. Variable:                  spend   R-squared:                       0.001\n",
       "Model:                            OLS   Adj. R-squared:                  0.001\n",
       "Method:                 Least Squares   F-statistic:                     28.91\n",
       "Date:                Wed, 05 Aug 2020   Prob (F-statistic):           7.62e-08\n",
       "Time:                        12:32:21   Log-Likelihood:            -1.4351e+05\n",
       "No. Observations:               34336   AIC:                         2.870e+05\n",
       "Df Residuals:                   34334   BIC:                         2.870e+05\n",
       "Df Model:                           1                                         \n",
       "Covariance Type:            nonrobust                                         \n",
       "==============================================================================\n",
       "                 coef    std err          t      P>|t|      [0.025      0.975]\n",
       "------------------------------------------------------------------------------\n",
       "const          0.6241      0.121      5.172      0.000       0.388       0.861\n",
       "treatment      0.9176      0.171      5.377      0.000       0.583       1.252\n",
       "==============================================================================\n",
       "Omnibus:                    76831.896   Durbin-Watson:                   2.006\n",
       "Prob(Omnibus):                  0.000   Jarque-Bera (JB):        408492152.212\n",
       "Skew:                          21.273   Prob(JB):                         0.00\n",
       "Kurtosis:                     535.650   Cond. No.                         2.62\n",
       "==============================================================================\n",
       "\n",
       "Warnings:\n",
       "[1] Standard Errors assume that the covariance matrix of the errors is correctly specified.\n",
       "\"\"\""
      ]
     },
     "execution_count": 25,
     "metadata": {},
     "output_type": "execute_result"
    }
   ],
   "source": [
    "import statsmodels.api as sm\n",
    "\n",
    "x = sm.add_constant(match_df['treatment'])\n",
    "results = sm.OLS(match_df['spend'], x).fit()\n",
    "results.summary()"
   ]
  },
  {
   "cell_type": "markdown",
   "metadata": {},
   "source": [
    "本ではtreatmentの係数が0.88だったので、比較的近い値になっている（マッチングの方法がめっちゃ雑なので、改善の余地あり）"
   ]
  },
  {
   "cell_type": "markdown",
   "metadata": {},
   "source": [
    "#### 共変量のバランス"
   ]
  },
  {
   "cell_type": "markdown",
   "metadata": {},
   "source": [
    "Z=0とZ=1での各共変量の平均の差が0に近いかどうかを調べる。"
   ]
  },
  {
   "cell_type": "code",
   "execution_count": 63,
   "metadata": {},
   "outputs": [
    {
     "data": {
      "text/html": [
       "<div>\n",
       "<style scoped>\n",
       "    .dataframe tbody tr th:only-of-type {\n",
       "        vertical-align: middle;\n",
       "    }\n",
       "\n",
       "    .dataframe tbody tr th {\n",
       "        vertical-align: top;\n",
       "    }\n",
       "\n",
       "    .dataframe thead th {\n",
       "        text-align: right;\n",
       "    }\n",
       "</style>\n",
       "<table border=\"1\" class=\"dataframe\">\n",
       "  <thead>\n",
       "    <tr style=\"text-align: right;\">\n",
       "      <th></th>\n",
       "      <th>recency</th>\n",
       "      <th>history</th>\n",
       "      <th>channel_Phone</th>\n",
       "      <th>channel_Web</th>\n",
       "      <th>treatment</th>\n",
       "    </tr>\n",
       "  </thead>\n",
       "  <tbody>\n",
       "    <tr>\n",
       "      <th>0</th>\n",
       "      <td>8</td>\n",
       "      <td>572.65</td>\n",
       "      <td>0</td>\n",
       "      <td>1</td>\n",
       "      <td>0</td>\n",
       "    </tr>\n",
       "    <tr>\n",
       "      <th>1</th>\n",
       "      <td>5</td>\n",
       "      <td>42.38</td>\n",
       "      <td>1</td>\n",
       "      <td>0</td>\n",
       "      <td>0</td>\n",
       "    </tr>\n",
       "    <tr>\n",
       "      <th>2</th>\n",
       "      <td>1</td>\n",
       "      <td>3003.48</td>\n",
       "      <td>1</td>\n",
       "      <td>0</td>\n",
       "      <td>0</td>\n",
       "    </tr>\n",
       "    <tr>\n",
       "      <th>3</th>\n",
       "      <td>1</td>\n",
       "      <td>662.10</td>\n",
       "      <td>0</td>\n",
       "      <td>1</td>\n",
       "      <td>0</td>\n",
       "    </tr>\n",
       "    <tr>\n",
       "      <th>4</th>\n",
       "      <td>5</td>\n",
       "      <td>44.37</td>\n",
       "      <td>0</td>\n",
       "      <td>1</td>\n",
       "      <td>0</td>\n",
       "    </tr>\n",
       "  </tbody>\n",
       "</table>\n",
       "</div>"
      ],
      "text/plain": [
       "   recency  history  channel_Phone  channel_Web  treatment\n",
       "0        8   572.65              0            1          0\n",
       "1        5    42.38              1            0          0\n",
       "2        1  3003.48              1            0          0\n",
       "3        1   662.10              0            1          0\n",
       "4        5    44.37              0            1          0"
      ]
     },
     "execution_count": 63,
     "metadata": {},
     "output_type": "execute_result"
    }
   ],
   "source": [
    "unadjust = pd.concat([X, y], axis=1)\n",
    "unadjust.head()"
   ]
  },
  {
   "cell_type": "code",
   "execution_count": 66,
   "metadata": {},
   "outputs": [
    {
     "data": {
      "text/plain": [
       "<matplotlib.legend.Legend at 0x7fb4d3e3c5b0>"
      ]
     },
     "execution_count": 66,
     "metadata": {},
     "output_type": "execute_result"
    },
    {
     "data": {
      "image/png": "[encoded data removed]",
      "text/plain": [
       "<Figure size 432x288 with 1 Axes>"
      ]
     },
     "metadata": {
      "needs_background": "light"
     },
     "output_type": "display_data"
    }
   ],
   "source": [
    "import matplotlib.pyplot as plt\n",
    "\n",
    "asam_unadjust = (unadjust.query('treatment == 1').mean() - unadjust.query('treatment == 0').mean()) / unadjust.std()\n",
    "plt.scatter(asam_unadjust.index, asam_unadjust.abs(), color='blue', label='unadjust')\n",
    "\n",
    "adjust = match.merge(X.reset_index(), on='index', how='left')[['treatment', 'recency', 'history', 'channel_Phone', 'channel_Web']]\n",
    "asam_adjust = (adjust.query('treatment == 1').mean() - adjust.query('treatment == 0').mean()) / adjust.std()\n",
    "plt.scatter(asam_adjust.index, asam_adjust.abs(), color='red', label='adjust')\n",
    "\n",
    "plt.legend()"
   ]
  },
  {
   "cell_type": "markdown",
   "metadata": {},
   "source": [
    "## 3.2.2 逆確率重み付き推定　IPW"
   ]
  },
  {
   "cell_type": "markdown",
   "metadata": {},
   "source": [
    "傾向スコアの逆数で重み付けする。"
   ]
  },
  {
   "cell_type": "code",
   "execution_count": 67,
   "metadata": {},
   "outputs": [],
   "source": [
    "import pandas as pd\n",
    "from sklearn.linear_model import LogisticRegression\n",
    "\n",
    "\n",
    "biased_df = pd.read_pickle('data/biased_df.pkl')\n",
    "\n",
    "y = biased_df['treatment']\n",
    "X = pd.get_dummies(biased_df[['recency', 'channel', 'history']], columns=['channel'], drop_first=True)\n",
    "\n",
    "lr = LogisticRegression(random_state=42)\n",
    "lr.fit(X, y)\n",
    "ps_score = lr.predict_proba(X)[:, 1]"
   ]
  },
  {
   "cell_type": "code",
   "execution_count": 68,
   "metadata": {},
   "outputs": [],
   "source": [
    "weight_0 = 1 / (1 - ps_score[y[y == 0].index])\n",
    "weight_1 = 1 / ps_score[y[y == 1].index]"
   ]
  },
  {
   "cell_type": "code",
   "execution_count": 69,
   "metadata": {},
   "outputs": [],
   "source": [
    "z_ps = pd.DataFrame({'treatment': y, 'ps_score': ps_score})\n",
    "z_ps['weight'] = (1 - z_ps['treatment']) / (1 - z_ps['ps_score']) + z_ps['treatment'] / z_ps['ps_score']"
   ]
  },
  {
   "cell_type": "code",
   "execution_count": 70,
   "metadata": {},
   "outputs": [
    {
     "data": {
      "text/html": [
       "<div>\n",
       "<style scoped>\n",
       "    .dataframe tbody tr th:only-of-type {\n",
       "        vertical-align: middle;\n",
       "    }\n",
       "\n",
       "    .dataframe tbody tr th {\n",
       "        vertical-align: top;\n",
       "    }\n",
       "\n",
       "    .dataframe thead th {\n",
       "        text-align: right;\n",
       "    }\n",
       "</style>\n",
       "<table border=\"1\" class=\"dataframe\">\n",
       "  <thead>\n",
       "    <tr style=\"text-align: right;\">\n",
       "      <th></th>\n",
       "      <th>treatment</th>\n",
       "      <th>ps_score</th>\n",
       "      <th>weight</th>\n",
       "      <th>spend</th>\n",
       "    </tr>\n",
       "  </thead>\n",
       "  <tbody>\n",
       "    <tr>\n",
       "      <th>0</th>\n",
       "      <td>0</td>\n",
       "      <td>0.510585</td>\n",
       "      <td>2.043256</td>\n",
       "      <td>0.0</td>\n",
       "    </tr>\n",
       "    <tr>\n",
       "      <th>1</th>\n",
       "      <td>0</td>\n",
       "      <td>0.525221</td>\n",
       "      <td>2.106244</td>\n",
       "      <td>0.0</td>\n",
       "    </tr>\n",
       "    <tr>\n",
       "      <th>2</th>\n",
       "      <td>0</td>\n",
       "      <td>0.912623</td>\n",
       "      <td>11.444681</td>\n",
       "      <td>0.0</td>\n",
       "    </tr>\n",
       "    <tr>\n",
       "      <th>3</th>\n",
       "      <td>0</td>\n",
       "      <td>0.721723</td>\n",
       "      <td>3.593544</td>\n",
       "      <td>0.0</td>\n",
       "    </tr>\n",
       "    <tr>\n",
       "      <th>4</th>\n",
       "      <td>0</td>\n",
       "      <td>0.524183</td>\n",
       "      <td>2.101648</td>\n",
       "      <td>0.0</td>\n",
       "    </tr>\n",
       "    <tr>\n",
       "      <th>...</th>\n",
       "      <td>...</td>\n",
       "      <td>...</td>\n",
       "      <td>...</td>\n",
       "      <td>...</td>\n",
       "    </tr>\n",
       "    <tr>\n",
       "      <th>31920</th>\n",
       "      <td>1</td>\n",
       "      <td>0.316614</td>\n",
       "      <td>3.158424</td>\n",
       "      <td>0.0</td>\n",
       "    </tr>\n",
       "    <tr>\n",
       "      <th>31921</th>\n",
       "      <td>1</td>\n",
       "      <td>0.510165</td>\n",
       "      <td>1.960150</td>\n",
       "      <td>0.0</td>\n",
       "    </tr>\n",
       "    <tr>\n",
       "      <th>31922</th>\n",
       "      <td>1</td>\n",
       "      <td>0.349279</td>\n",
       "      <td>2.863037</td>\n",
       "      <td>0.0</td>\n",
       "    </tr>\n",
       "    <tr>\n",
       "      <th>31923</th>\n",
       "      <td>1</td>\n",
       "      <td>0.361109</td>\n",
       "      <td>2.769248</td>\n",
       "      <td>0.0</td>\n",
       "    </tr>\n",
       "    <tr>\n",
       "      <th>31924</th>\n",
       "      <td>1</td>\n",
       "      <td>0.338380</td>\n",
       "      <td>2.955253</td>\n",
       "      <td>0.0</td>\n",
       "    </tr>\n",
       "  </tbody>\n",
       "</table>\n",
       "<p>31925 rows × 4 columns</p>\n",
       "</div>"
      ],
      "text/plain": [
       "       treatment  ps_score     weight  spend\n",
       "0              0  0.510585   2.043256    0.0\n",
       "1              0  0.525221   2.106244    0.0\n",
       "2              0  0.912623  11.444681    0.0\n",
       "3              0  0.721723   3.593544    0.0\n",
       "4              0  0.524183   2.101648    0.0\n",
       "...          ...       ...        ...    ...\n",
       "31920          1  0.316614   3.158424    0.0\n",
       "31921          1  0.510165   1.960150    0.0\n",
       "31922          1  0.349279   2.863037    0.0\n",
       "31923          1  0.361109   2.769248    0.0\n",
       "31924          1  0.338380   2.955253    0.0\n",
       "\n",
       "[31925 rows x 4 columns]"
      ]
     },
     "execution_count": 70,
     "metadata": {},
     "output_type": "execute_result"
    }
   ],
   "source": [
    "z_ps['spend'] = biased_df['spend']\n",
    "z_ps"
   ]
  },
  {
   "cell_type": "code",
   "execution_count": 71,
   "metadata": {},
   "outputs": [
    {
     "name": "stdout",
     "output_type": "stream",
     "text": [
      "1.4758746142116805\n",
      "0.5902908912501398\n"
     ]
    }
   ],
   "source": [
    "z1 = z_ps.query('treatment == 1')\n",
    "z0 = z_ps.query('treatment == 0')\n",
    "\n",
    "print((z1['spend'] * z1['weight']).sum() / z1['weight'].sum())\n",
    "print((z0['spend'] * z0['weight']).sum() / z0['weight'].sum())"
   ]
  },
  {
   "cell_type": "code",
   "execution_count": 72,
   "metadata": {},
   "outputs": [
    {
     "data": {
      "text/plain": [
       "0.8855837229615408"
      ]
     },
     "execution_count": 72,
     "metadata": {},
     "output_type": "execute_result"
    }
   ],
   "source": [
    "1.4758746142116805 - 0.5902908912501398"
   ]
  },
  {
   "cell_type": "code",
   "execution_count": 73,
   "metadata": {},
   "outputs": [
    {
     "data": {
      "text/html": [
       "<table class=\"simpletable\">\n",
       "<caption>WLS Regression Results</caption>\n",
       "<tr>\n",
       "  <th>Dep. Variable:</th>          <td>spend</td>      <th>  R-squared:         </th>  <td>   0.001</td>  \n",
       "</tr>\n",
       "<tr>\n",
       "  <th>Model:</th>                   <td>WLS</td>       <th>  Adj. R-squared:    </th>  <td>   0.001</td>  \n",
       "</tr>\n",
       "<tr>\n",
       "  <th>Method:</th>             <td>Least Squares</td>  <th>  F-statistic:       </th>  <td>   27.07</td>  \n",
       "</tr>\n",
       "<tr>\n",
       "  <th>Date:</th>             <td>Wed, 05 Aug 2020</td> <th>  Prob (F-statistic):</th>  <td>1.97e-07</td>  \n",
       "</tr>\n",
       "<tr>\n",
       "  <th>Time:</th>                 <td>13:14:57</td>     <th>  Log-Likelihood:    </th> <td>-1.3278e+05</td>\n",
       "</tr>\n",
       "<tr>\n",
       "  <th>No. Observations:</th>      <td> 31925</td>      <th>  AIC:               </th>  <td>2.656e+05</td> \n",
       "</tr>\n",
       "<tr>\n",
       "  <th>Df Residuals:</th>          <td> 31923</td>      <th>  BIC:               </th>  <td>2.656e+05</td> \n",
       "</tr>\n",
       "<tr>\n",
       "  <th>Df Model:</th>              <td>     1</td>      <th>                     </th>      <td> </td>     \n",
       "</tr>\n",
       "<tr>\n",
       "  <th>Covariance Type:</th>      <td>nonrobust</td>    <th>                     </th>      <td> </td>     \n",
       "</tr>\n",
       "</table>\n",
       "<table class=\"simpletable\">\n",
       "<tr>\n",
       "      <td></td>         <th>coef</th>     <th>std err</th>      <th>t</th>      <th>P>|t|</th>  <th>[0.025</th>    <th>0.975]</th>  \n",
       "</tr>\n",
       "<tr>\n",
       "  <th>const</th>     <td>    0.5903</td> <td>    0.120</td> <td>    4.920</td> <td> 0.000</td> <td>    0.355</td> <td>    0.825</td>\n",
       "</tr>\n",
       "<tr>\n",
       "  <th>treatment</th> <td>    0.8856</td> <td>    0.170</td> <td>    5.203</td> <td> 0.000</td> <td>    0.552</td> <td>    1.219</td>\n",
       "</tr>\n",
       "</table>\n",
       "<table class=\"simpletable\">\n",
       "<tr>\n",
       "  <th>Omnibus:</th>       <td>71708.008</td> <th>  Durbin-Watson:     </th>   <td>   2.001</td>   \n",
       "</tr>\n",
       "<tr>\n",
       "  <th>Prob(Omnibus):</th>  <td> 0.000</td>   <th>  Jarque-Bera (JB):  </th> <td>414882195.972</td>\n",
       "</tr>\n",
       "<tr>\n",
       "  <th>Skew:</th>           <td>21.418</td>   <th>  Prob(JB):          </th>   <td>    0.00</td>   \n",
       "</tr>\n",
       "<tr>\n",
       "  <th>Kurtosis:</th>       <td>559.828</td>  <th>  Cond. No.          </th>   <td>    2.61</td>   \n",
       "</tr>\n",
       "</table><br/><br/>Warnings:<br/>[1] Standard Errors assume that the covariance matrix of the errors is correctly specified."
      ],
      "text/plain": [
       "<class 'statsmodels.iolib.summary.Summary'>\n",
       "\"\"\"\n",
       "                            WLS Regression Results                            \n",
       "==============================================================================\n",
       "Dep. Variable:                  spend   R-squared:                       0.001\n",
       "Model:                            WLS   Adj. R-squared:                  0.001\n",
       "Method:                 Least Squares   F-statistic:                     27.07\n",
       "Date:                Wed, 05 Aug 2020   Prob (F-statistic):           1.97e-07\n",
       "Time:                        13:14:57   Log-Likelihood:            -1.3278e+05\n",
       "No. Observations:               31925   AIC:                         2.656e+05\n",
       "Df Residuals:                   31923   BIC:                         2.656e+05\n",
       "Df Model:                           1                                         \n",
       "Covariance Type:            nonrobust                                         \n",
       "==============================================================================\n",
       "                 coef    std err          t      P>|t|      [0.025      0.975]\n",
       "------------------------------------------------------------------------------\n",
       "const          0.5903      0.120      4.920      0.000       0.355       0.825\n",
       "treatment      0.8856      0.170      5.203      0.000       0.552       1.219\n",
       "==============================================================================\n",
       "Omnibus:                    71708.008   Durbin-Watson:                   2.001\n",
       "Prob(Omnibus):                  0.000   Jarque-Bera (JB):        414882195.972\n",
       "Skew:                          21.418   Prob(JB):                         0.00\n",
       "Kurtosis:                     559.828   Cond. No.                         2.61\n",
       "==============================================================================\n",
       "\n",
       "Warnings:\n",
       "[1] Standard Errors assume that the covariance matrix of the errors is correctly specified.\n",
       "\"\"\""
      ]
     },
     "execution_count": 73,
     "metadata": {},
     "output_type": "execute_result"
    }
   ],
   "source": [
    "import statsmodels.api as sm\n",
    "\n",
    "y = biased_df['spend']\n",
    "x = sm.add_constant(z_ps['treatment'])\n",
    "results = sm.WLS(y, x, weights=z_ps['weight']).fit()\n",
    "results.summary()"
   ]
  },
  {
   "cell_type": "markdown",
   "metadata": {},
   "source": [
    "#### 共変量のバランス"
   ]
  },
  {
   "cell_type": "code",
   "execution_count": 82,
   "metadata": {},
   "outputs": [
    {
     "data": {
      "text/html": [
       "<div>\n",
       "<style scoped>\n",
       "    .dataframe tbody tr th:only-of-type {\n",
       "        vertical-align: middle;\n",
       "    }\n",
       "\n",
       "    .dataframe tbody tr th {\n",
       "        vertical-align: top;\n",
       "    }\n",
       "\n",
       "    .dataframe thead th {\n",
       "        text-align: right;\n",
       "    }\n",
       "</style>\n",
       "<table border=\"1\" class=\"dataframe\">\n",
       "  <thead>\n",
       "    <tr style=\"text-align: right;\">\n",
       "      <th></th>\n",
       "      <th>treatment</th>\n",
       "      <th>ps_score</th>\n",
       "      <th>weight</th>\n",
       "      <th>spend</th>\n",
       "    </tr>\n",
       "  </thead>\n",
       "  <tbody>\n",
       "    <tr>\n",
       "      <th>0</th>\n",
       "      <td>0</td>\n",
       "      <td>0.510585</td>\n",
       "      <td>2.043256</td>\n",
       "      <td>0.0</td>\n",
       "    </tr>\n",
       "    <tr>\n",
       "      <th>1</th>\n",
       "      <td>0</td>\n",
       "      <td>0.525221</td>\n",
       "      <td>2.106244</td>\n",
       "      <td>0.0</td>\n",
       "    </tr>\n",
       "    <tr>\n",
       "      <th>2</th>\n",
       "      <td>0</td>\n",
       "      <td>0.912623</td>\n",
       "      <td>11.444681</td>\n",
       "      <td>0.0</td>\n",
       "    </tr>\n",
       "    <tr>\n",
       "      <th>3</th>\n",
       "      <td>0</td>\n",
       "      <td>0.721723</td>\n",
       "      <td>3.593544</td>\n",
       "      <td>0.0</td>\n",
       "    </tr>\n",
       "    <tr>\n",
       "      <th>4</th>\n",
       "      <td>0</td>\n",
       "      <td>0.524183</td>\n",
       "      <td>2.101648</td>\n",
       "      <td>0.0</td>\n",
       "    </tr>\n",
       "    <tr>\n",
       "      <th>...</th>\n",
       "      <td>...</td>\n",
       "      <td>...</td>\n",
       "      <td>...</td>\n",
       "      <td>...</td>\n",
       "    </tr>\n",
       "    <tr>\n",
       "      <th>31920</th>\n",
       "      <td>1</td>\n",
       "      <td>0.316614</td>\n",
       "      <td>3.158424</td>\n",
       "      <td>0.0</td>\n",
       "    </tr>\n",
       "    <tr>\n",
       "      <th>31921</th>\n",
       "      <td>1</td>\n",
       "      <td>0.510165</td>\n",
       "      <td>1.960150</td>\n",
       "      <td>0.0</td>\n",
       "    </tr>\n",
       "    <tr>\n",
       "      <th>31922</th>\n",
       "      <td>1</td>\n",
       "      <td>0.349279</td>\n",
       "      <td>2.863037</td>\n",
       "      <td>0.0</td>\n",
       "    </tr>\n",
       "    <tr>\n",
       "      <th>31923</th>\n",
       "      <td>1</td>\n",
       "      <td>0.361109</td>\n",
       "      <td>2.769248</td>\n",
       "      <td>0.0</td>\n",
       "    </tr>\n",
       "    <tr>\n",
       "      <th>31924</th>\n",
       "      <td>1</td>\n",
       "      <td>0.338380</td>\n",
       "      <td>2.955253</td>\n",
       "      <td>0.0</td>\n",
       "    </tr>\n",
       "  </tbody>\n",
       "</table>\n",
       "<p>31925 rows × 4 columns</p>\n",
       "</div>"
      ],
      "text/plain": [
       "       treatment  ps_score     weight  spend\n",
       "0              0  0.510585   2.043256    0.0\n",
       "1              0  0.525221   2.106244    0.0\n",
       "2              0  0.912623  11.444681    0.0\n",
       "3              0  0.721723   3.593544    0.0\n",
       "4              0  0.524183   2.101648    0.0\n",
       "...          ...       ...        ...    ...\n",
       "31920          1  0.316614   3.158424    0.0\n",
       "31921          1  0.510165   1.960150    0.0\n",
       "31922          1  0.349279   2.863037    0.0\n",
       "31923          1  0.361109   2.769248    0.0\n",
       "31924          1  0.338380   2.955253    0.0\n",
       "\n",
       "[31925 rows x 4 columns]"
      ]
     },
     "execution_count": 82,
     "metadata": {},
     "output_type": "execute_result"
    }
   ],
   "source": [
    "z_ps"
   ]
  },
  {
   "cell_type": "code",
   "execution_count": 87,
   "metadata": {},
   "outputs": [
    {
     "data": {
      "text/html": [
       "<div>\n",
       "<style scoped>\n",
       "    .dataframe tbody tr th:only-of-type {\n",
       "        vertical-align: middle;\n",
       "    }\n",
       "\n",
       "    .dataframe tbody tr th {\n",
       "        vertical-align: top;\n",
       "    }\n",
       "\n",
       "    .dataframe thead th {\n",
       "        text-align: right;\n",
       "    }\n",
       "</style>\n",
       "<table border=\"1\" class=\"dataframe\">\n",
       "  <thead>\n",
       "    <tr style=\"text-align: right;\">\n",
       "      <th></th>\n",
       "      <th>recency</th>\n",
       "      <th>history</th>\n",
       "      <th>channel_Phone</th>\n",
       "      <th>channel_Web</th>\n",
       "      <th>treatment</th>\n",
       "    </tr>\n",
       "  </thead>\n",
       "  <tbody>\n",
       "    <tr>\n",
       "      <th>0</th>\n",
       "      <td>16.346046</td>\n",
       "      <td>1170.070410</td>\n",
       "      <td>0.000000</td>\n",
       "      <td>2.043256</td>\n",
       "      <td>0</td>\n",
       "    </tr>\n",
       "    <tr>\n",
       "      <th>1</th>\n",
       "      <td>10.531220</td>\n",
       "      <td>89.262618</td>\n",
       "      <td>2.106244</td>\n",
       "      <td>0.000000</td>\n",
       "      <td>0</td>\n",
       "    </tr>\n",
       "    <tr>\n",
       "      <th>2</th>\n",
       "      <td>11.444681</td>\n",
       "      <td>34373.870657</td>\n",
       "      <td>11.444681</td>\n",
       "      <td>0.000000</td>\n",
       "      <td>0</td>\n",
       "    </tr>\n",
       "    <tr>\n",
       "      <th>3</th>\n",
       "      <td>3.593544</td>\n",
       "      <td>2379.285260</td>\n",
       "      <td>0.000000</td>\n",
       "      <td>3.593544</td>\n",
       "      <td>0</td>\n",
       "    </tr>\n",
       "    <tr>\n",
       "      <th>4</th>\n",
       "      <td>10.508238</td>\n",
       "      <td>93.250103</td>\n",
       "      <td>0.000000</td>\n",
       "      <td>2.101648</td>\n",
       "      <td>0</td>\n",
       "    </tr>\n",
       "  </tbody>\n",
       "</table>\n",
       "</div>"
      ],
      "text/plain": [
       "     recency       history  channel_Phone  channel_Web  treatment\n",
       "0  16.346046   1170.070410       0.000000     2.043256          0\n",
       "1  10.531220     89.262618       2.106244     0.000000          0\n",
       "2  11.444681  34373.870657      11.444681     0.000000          0\n",
       "3   3.593544   2379.285260       0.000000     3.593544          0\n",
       "4  10.508238     93.250103       0.000000     2.101648          0"
      ]
     },
     "execution_count": 87,
     "metadata": {},
     "output_type": "execute_result"
    }
   ],
   "source": [
    "data = pd.DataFrame()\n",
    "for column in X.columns:\n",
    "    data[column] = X[column] * z_ps['weight']\n",
    "data['treatment'] = biased_df['treatment']\n",
    "data.head()"
   ]
  },
  {
   "cell_type": "code",
   "execution_count": 89,
   "metadata": {},
   "outputs": [
    {
     "data": {
      "text/plain": [
       "<matplotlib.legend.Legend at 0x7fb4d3dfd400>"
      ]
     },
     "execution_count": 89,
     "metadata": {},
     "output_type": "execute_result"
    },
    {
     "data": {
      "image/png": "[encoded data removed]",
      "text/plain": [
       "<Figure size 432x288 with 1 Axes>"
      ]
     },
     "metadata": {
      "needs_background": "light"
     },
     "output_type": "display_data"
    }
   ],
   "source": [
    "import matplotlib.pyplot as plt\n",
    "\n",
    "df = pd.concat([X, biased_df['treatment']], axis=1)\n",
    "match = (df.query('treatment == 1').mean() - df.query('treatment == 0').mean()) / df.std()\n",
    "plt.scatter(match.index, match.abs(), color='blue', label='not match')\n",
    "\n",
    "n_match = (data.query('treatment == 1').mean() - data.query('treatment == 0').mean()) / data.std()\n",
    "plt.scatter(n_match.index, n_match.abs(), color='red', label='match')\n",
    "\n",
    "plt.legend()"
   ]
  }
 ],
 "metadata": {
  "kernelspec": {
   "display_name": "Python 3",
   "language": "python",
   "name": "python3"
  },
  "language_info": {
   "codemirror_mode": {
    "name": "ipython",
    "version": 3
   },
   "file_extension": ".py",
   "mimetype": "text/x-python",
   "name": "python",
   "nbconvert_exporter": "python",
   "pygments_lexer": "ipython3",
   "version": "3.8.0"
  }
 },
 "nbformat": 4,
 "nbformat_minor": 4
}
